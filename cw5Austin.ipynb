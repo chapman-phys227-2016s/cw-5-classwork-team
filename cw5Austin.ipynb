{
 "cells": [
  {
   "cell_type": "code",
   "execution_count": 1,
   "metadata": {
    "collapsed": false
   },
   "outputs": [],
   "source": [
    "import calculus as p1\n",
    "import numpy as npf"
   ]
  },
  {
   "cell_type": "code",
   "execution_count": 2,
   "metadata": {
    "collapsed": false
   },
   "outputs": [
    {
     "name": "stdout",
     "output_type": "stream",
     "text": [
      "[[ 151981.77546351 -101321.18364234  -50660.59182117 ...,       0.               0.\n",
      "        0.        ]\n",
      " [ -50660.59182117   25330.29591058       0.         ...,       0.               0.\n",
      "        0.        ]\n",
      " [  25330.29591058       0.          -50660.59182117 ...,       0.               0.\n",
      "        0.        ]\n",
      " ..., \n",
      " [      0.               0.               0.         ...,  -50660.59182117\n",
      "        0.           25330.29591058]\n",
      " [      0.               0.               0.         ...,       0.\n",
      "    25330.29591058  -50660.59182117]\n",
      " [      0.               0.               0.         ...,  -50660.59182117\n",
      "  -101321.18364234  151981.77546351]]\n"
     ]
    }
   ],
   "source": [
    "p1.diff2(p1.sin, 0, np.pi, 1000)"
   ]
  },
  {
   "cell_type": "code",
   "execution_count": null,
   "metadata": {
    "collapsed": true
   },
   "outputs": [],
   "source": []
  }
 ],
 "metadata": {
  "kernelspec": {
   "display_name": "Python 2 (SageMath)",
   "language": "python",
   "name": "python2"
  },
  "language_info": {
   "codemirror_mode": {
    "name": "ipython",
    "version": 2
   },
   "file_extension": ".py",
   "mimetype": "text/x-python",
   "name": "python",
   "nbconvert_exporter": "python",
   "pygments_lexer": "ipython2",
   "version": "2.7.10"
  },
  "name": "cw5Austin.ipynb"
 },
 "nbformat": 4,
 "nbformat_minor": 0
}
