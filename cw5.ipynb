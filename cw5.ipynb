{
 "cells": [
  {
   "cell_type": "code",
   "execution_count": 1,
   "metadata": {
    "collapsed": false
   },
   "outputs": [],
   "source": [
    "import math\n",
    "import matplotlib.pyplot as plt\n",
    "import numpy as np\n",
    "\n",
    "import calculus as p1"
   ]
  },
  {
   "cell_type": "markdown",
   "metadata": {},
   "source": [
    "# Classwork 5\n",
    "### Michael Seaman, Taylor Patti, Austin Ayers, Chinmai Raman, Andrew Malfavon\n",
    "#### 3/1/16\n",
    "The calculus module contains 3 main functions in it. The first is the discrete funk function, which takes a function f, endpoints a and b, and the number of points to be calculated n. The function returns a 2 dimensional list containing a list of inputs x equally spaced along a-b and then a list of outputs y for y = f(x)."
   ]
  },
  {
   "cell_type": "code",
   "execution_count": 2,
   "metadata": {
    "collapsed": false
   },
   "outputs": [
    {
     "data": {
      "image/png": "[encoded data removed]",
      "text/plain": [
       "<matplotlib.figure.Figure at 0x7f790959d310>"
      ]
     },
     "metadata": {},
     "output_type": "display_data"
    }
   ],
   "source": [
    "plot_points = p1.discrete_func(math.sin, -4, 4, 400)\n",
    "\n",
    "plt.plot(plot_points[0], plot_points[1], 'g.')\n",
    "plt.show()"
   ]
  },
  {
   "cell_type": "markdown",
   "metadata": {},
   "source": [
    "That's nice, but we also did stuff with it. For example, we wrote two functions which obtain the derrivative of a function at various points. The first was an iterative version. We display it below here, taking the derivative of sin at the x value of 2 pi. Note that it approaches the actual value of 1 with incredible accuracy and precision."
   ]
  },
  {
   "cell_type": "code",
   "execution_count": 3,
   "metadata": {
    "collapsed": false
   },
   "outputs": [
    {
     "name": "stdout",
     "output_type": "stream",
     "text": [
      "0.999993420277\n"
     ]
    }
   ],
   "source": [
    "print p1.diff(math.sin, 0, 2 * math.pi, 1000)[1][-1]"
   ]
  },
  {
   "cell_type": "markdown",
   "metadata": {},
   "source": [
    "We also implemented a superior version in the form of a derrivative matrix. This takes the matrix product of an n by n matrix with an n length vector utilizing numpy functions. This is far better, not only due to the speed of numpy functions, but rather, by the ability to rapidly differentiate other functions with the generated matrix should we need be so that there."
   ]
  },
  {
   "cell_type": "code",
   "execution_count": 4,
   "metadata": {
    "collapsed": false
   },
   "outputs": [
    {
     "name": "stdout",
     "output_type": "stream",
     "text": [
      "1.0009944015\n"
     ]
    }
   ],
   "source": [
    "print p1.diff2(math.sin, 0, 2 * math.pi, 1000)[-1]"
   ]
  },
  {
   "cell_type": "markdown",
   "metadata": {
    "collapsed": true
   },
   "source": [
    "Finally, trapezoidal_matrix takes a function, two endpoints, and an interval number n and returns the integral of the function from the dot product of the function vector with a 1 by n matrix for integration."
   ]
  },
  {
   "cell_type": "code",
   "execution_count": 5,
   "metadata": {
    "collapsed": false
   },
   "outputs": [
    {
     "name": "stdout",
     "output_type": "stream",
     "text": [
      "0.999989999979\n"
     ]
    }
   ],
   "source": [
    "print p1.trapezoidal_matrix(np.sin, 0, np.pi/2.0, 100000)"
   ]
  }
 ],
 "metadata": {
  "kernelspec": {
   "display_name": "Python 2 (SageMath)",
   "language": "python",
   "name": "python2"
  },
  "language_info": {
   "codemirror_mode": {
    "name": "ipython",
    "version": 2
   },
   "file_extension": ".py",
   "mimetype": "text/x-python",
   "name": "python",
   "nbconvert_exporter": "python",
   "pygments_lexer": "ipython2",
   "version": "2.7.10"
  },
  "name": "cw5.ipynb"
 },
 "nbformat": 4,
 "nbformat_minor": 0
}
